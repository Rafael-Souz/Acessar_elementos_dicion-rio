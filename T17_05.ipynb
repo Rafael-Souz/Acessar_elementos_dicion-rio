{
  "nbformat": 4,
  "nbformat_minor": 0,
  "metadata": {
    "colab": {
      "name": "T17-05.ipynb",
      "provenance": [],
      "collapsed_sections": [],
      "include_colab_link": true
    },
    "kernelspec": {
      "name": "python3",
      "display_name": "Python 3"
    },
    "language_info": {
      "name": "python"
    }
  },
  "cells": [
    {
      "cell_type": "markdown",
      "metadata": {
        "id": "view-in-github",
        "colab_type": "text"
      },
      "source": [
        "<a href=\"https://colab.research.google.com/github/Rafael-Souz/Acessar_elementos_dicionario/blob/main/T17_05.ipynb\" target=\"_parent\"><img src=\"https://colab.research.google.com/assets/colab-badge.svg\" alt=\"Open In Colab\"/></a>"
      ]
    },
    {
      "cell_type": "markdown",
      "source": [
        "# Dicionários (***dict***)\n",
        "* O dicionário é uma estrutura de dados similar as listas, mas não ordenado. Sua estrutra é composta por <code>chave:valor</code>\n",
        "* Apesar de não ser ordenado, é indexado pela sua chave\n",
        "* Enquanto nas listas o delimitador são pares de colchetes, no ``dict`` são as chaves ``{}``\n",
        "\n",
        "Sintaxe\n",
        "\n",
        "```\n",
        "  dic = {\n",
        "    'chave1': 'valor1',\n",
        "    'chave2': 'valor2'\n",
        "  }\n",
        "```"
      ],
      "metadata": {
        "id": "9ThIZlrJITdU"
      }
    },
    {
      "cell_type": "code",
      "source": [
        "# Ex. 1\n",
        "dicionario = {\n",
        "    'ra': 123456,\n",
        "    'nome': 'Edson Melo',\n",
        "    'curso': 'TADS'\n",
        "}\n",
        "print(dicionario)"
      ],
      "metadata": {
        "colab": {
          "base_uri": "https://localhost:8080/"
        },
        "id": "RvodJeAMSvCl",
        "outputId": "737d7a2a-2ef3-4a00-ca92-1028a9e13b5b"
      },
      "execution_count": null,
      "outputs": [
        {
          "output_type": "stream",
          "name": "stdout",
          "text": [
            "{'ra': 123456, 'nome': 'Edson Melo', 'curso': 'TADS'}\n"
          ]
        }
      ]
    },
    {
      "cell_type": "code",
      "source": [
        "# Ex. 2\n",
        "provas = {\n",
        "    'ra': 123,\n",
        "    'notas': [9.8, 7.2, 6.3]\n",
        "}\n",
        "print(provas)"
      ],
      "metadata": {
        "colab": {
          "base_uri": "https://localhost:8080/"
        },
        "id": "5e6hQrMGU9ka",
        "outputId": "f7f7d350-eef2-482d-ea60-9b02a7bad9af"
      },
      "execution_count": null,
      "outputs": [
        {
          "output_type": "stream",
          "name": "stdout",
          "text": [
            "{'ra': 123, 'notas': [9.8, 7.2, 6.3]}\n"
          ]
        }
      ]
    },
    {
      "cell_type": "code",
      "source": [
        "# Parênteses para integração de estruturas\n",
        "alunos = [\n",
        "  {'ra': 123,'notas': [9.8, 7.2, 6.3]},\n",
        "  {'ra': 234,'notas': [9.8, 7.2, 6.3]},\n",
        "  {'ra': 345,'notas': [9.8, 7.2, 6.3]},\n",
        "]\n",
        "print(alunos)\n"
      ],
      "metadata": {
        "id": "Df6n9sxrWhyK"
      },
      "execution_count": null,
      "outputs": []
    },
    {
      "cell_type": "markdown",
      "source": [
        "# Acessar elementos do dicionário"
      ],
      "metadata": {
        "id": "SUaYO7enVy8L"
      }
    },
    {
      "cell_type": "code",
      "source": [
        "dicionario = {\n",
        "    'ra': 123456,\n",
        "    'nome': 'Edson Melo',\n",
        "    'curso': 'TADS'\n",
        "}"
      ],
      "metadata": {
        "id": "kUYpuQ23ViFJ"
      },
      "execution_count": null,
      "outputs": []
    },
    {
      "cell_type": "code",
      "source": [
        "# Através da chave\n",
        "print(dicionario['nome'])"
      ],
      "metadata": {
        "colab": {
          "base_uri": "https://localhost:8080/"
        },
        "id": "X-ObJlR6V69X",
        "outputId": "3102cf40-9117-4b43-ad38-8af95a08d6af"
      },
      "execution_count": null,
      "outputs": [
        {
          "output_type": "stream",
          "name": "stdout",
          "text": [
            "Edson Melo\n"
          ]
        }
      ]
    },
    {
      "cell_type": "code",
      "source": [
        "# Através do método .get()\n",
        "print(dicionario.get('ra'))\n",
        "print(dicionario.get('nome'))\n",
        "print(dicionario.get('curso'))"
      ],
      "metadata": {
        "colab": {
          "base_uri": "https://localhost:8080/"
        },
        "id": "CMuhYq-BWGM9",
        "outputId": "a3ea46c9-c27c-450b-a95f-a812781b1b93"
      },
      "execution_count": null,
      "outputs": [
        {
          "output_type": "stream",
          "name": "stdout",
          "text": [
            "123456\n",
            "Edson Melo\n",
            "TADS\n"
          ]
        }
      ]
    },
    {
      "cell_type": "code",
      "source": [
        "# Percorrendo um dicionário - items()\n",
        "# chave:valor\n",
        "for key, value in dicionario.items():\n",
        "  print(key, value)"
      ],
      "metadata": {
        "colab": {
          "base_uri": "https://localhost:8080/"
        },
        "id": "wDPWg0cUXe8x",
        "outputId": "520e3e84-1314-47d3-9295-c323a20067af"
      },
      "execution_count": null,
      "outputs": [
        {
          "output_type": "stream",
          "name": "stdout",
          "text": [
            "ra 123456\n",
            "nome Edson Melo\n",
            "curso TADS\n"
          ]
        }
      ]
    },
    {
      "cell_type": "code",
      "source": [
        "# Descobrindo as chaves de um dicionário - keys()\n",
        "keys = dicionario.keys()\n",
        "print(keys)"
      ],
      "metadata": {
        "colab": {
          "base_uri": "https://localhost:8080/"
        },
        "id": "puFIWZU0YE6y",
        "outputId": "d7e7914d-3a47-48b8-8378-245dc1d6670b"
      },
      "execution_count": null,
      "outputs": [
        {
          "output_type": "stream",
          "name": "stdout",
          "text": [
            "dict_keys(['ra', 'nome', 'curso'])\n"
          ]
        }
      ]
    },
    {
      "cell_type": "code",
      "source": [
        "# Mostrando todos os dados com o keys()\n",
        "for key in keys:\n",
        "  print(key, dicionario.get(key))"
      ],
      "metadata": {
        "colab": {
          "base_uri": "https://localhost:8080/"
        },
        "id": "05T6k64JYSKh",
        "outputId": "71be0493-ee90-4855-8997-372cbb53c504"
      },
      "execution_count": null,
      "outputs": [
        {
          "output_type": "stream",
          "name": "stdout",
          "text": [
            "ra 123456\n",
            "nome Edson Melo\n",
            "curso TADS\n"
          ]
        }
      ]
    },
    {
      "cell_type": "markdown",
      "source": [
        "# Manipulação de dados"
      ],
      "metadata": {
        "id": "2Pz3agUcaNnc"
      }
    },
    {
      "cell_type": "code",
      "source": [
        "dicionario = {\n",
        "    'ra': 123456,\n",
        "    'nome': 'Edson Melo',\n",
        "    'curso': 'TADS'\n",
        "}"
      ],
      "metadata": {
        "id": "wBU1XCQjYeFD"
      },
      "execution_count": null,
      "outputs": []
    },
    {
      "cell_type": "code",
      "source": [
        "# Inclusão de dados\n",
        "dicionario['AV1'] = 8\n",
        "print(dicionario)"
      ],
      "metadata": {
        "colab": {
          "base_uri": "https://localhost:8080/"
        },
        "id": "nfyIpVNqaYa7",
        "outputId": "b3a7d923-c5bb-4c9c-c586-4d3bbf196d57"
      },
      "execution_count": null,
      "outputs": [
        {
          "output_type": "stream",
          "name": "stdout",
          "text": [
            "{'ra': 123456, 'nome': 'Edson Melo', 'curso': 'TADS', 'AV1': 8}\n"
          ]
        }
      ]
    },
    {
      "cell_type": "code",
      "source": [
        "# Atualização de dados\n",
        "# Usar o método update que, se não houver a chave, será criada, se não, atualiza\n",
        "dicionario['AV2'] = 9\n",
        "print(dicionario)"
      ],
      "metadata": {
        "colab": {
          "base_uri": "https://localhost:8080/"
        },
        "id": "QuwE_u5IagRf",
        "outputId": "5f8652b0-e52b-43b5-8e0d-8bec2eeb5493"
      },
      "execution_count": null,
      "outputs": [
        {
          "output_type": "stream",
          "name": "stdout",
          "text": [
            "{'ra': 123456, 'nome': 'Edson Melo', 'curso': 'TADS', 'AV1': 8, 'AV2': 9}\n"
          ]
        }
      ]
    },
    {
      "cell_type": "code",
      "source": [
        "dicionario['AV2'] = 10\n",
        "print(dicionario)"
      ],
      "metadata": {
        "colab": {
          "base_uri": "https://localhost:8080/"
        },
        "id": "8KqreL_ba3Bz",
        "outputId": "f502d5bd-36c6-4f3b-92a8-c0e6ccb8f393"
      },
      "execution_count": null,
      "outputs": [
        {
          "output_type": "stream",
          "name": "stdout",
          "text": [
            "{'ra': 123456, 'nome': 'Edson Melo', 'curso': 'TADS', 'AV1': 8, 'AV2': 10}\n"
          ]
        }
      ]
    },
    {
      "cell_type": "code",
      "source": [
        "# Método .update()\n",
        "dicionario.update({'AV3': 8.5})\n",
        "print(dicionario)"
      ],
      "metadata": {
        "colab": {
          "base_uri": "https://localhost:8080/"
        },
        "id": "IQSF_fYubGwb",
        "outputId": "c12c6a7b-046d-4a78-c499-3bde0934be2e"
      },
      "execution_count": null,
      "outputs": [
        {
          "output_type": "stream",
          "name": "stdout",
          "text": [
            "{'ra': 123456, 'nome': 'Edson Melo', 'curso': 'TADS', 'AV1': 8, 'AV2': 10, 'AV3': 8.5}\n"
          ]
        }
      ]
    },
    {
      "cell_type": "code",
      "source": [
        "dicionario.update({'AV4': 5.5, 'Rematricula': True})\n",
        "print(dicionario)"
      ],
      "metadata": {
        "colab": {
          "base_uri": "https://localhost:8080/"
        },
        "id": "bgSt1-Atbaia",
        "outputId": "e5941849-50a8-402c-bb64-8a790e83d68d"
      },
      "execution_count": null,
      "outputs": [
        {
          "output_type": "stream",
          "name": "stdout",
          "text": [
            "{'ra': 123456, 'nome': 'Edson Melo', 'curso': 'TADS', 'AV1': 8, 'AV2': 10, 'AV3': 8.5, 'AV4': 5.5, 'Rematricula': True}\n"
          ]
        }
      ]
    },
    {
      "cell_type": "code",
      "source": [
        "# Removendo dados\n",
        "del dicionario['Rematricula']\n",
        "print(dicionario)"
      ],
      "metadata": {
        "colab": {
          "base_uri": "https://localhost:8080/"
        },
        "id": "Fe9mzp2dbm_R",
        "outputId": "eb91b074-5be0-462f-f25f-7620fb988bc2"
      },
      "execution_count": null,
      "outputs": [
        {
          "output_type": "stream",
          "name": "stdout",
          "text": [
            "{'ra': 123456, 'nome': 'Edson Melo', 'curso': 'TADS', 'AV1': 8, 'AV2': 10, 'AV3': 8.5, 'AV4': 5.5}\n"
          ]
        }
      ]
    },
    {
      "cell_type": "code",
      "source": [
        "# Verificando a existência de dados\n",
        "'AV1' in dicionario"
      ],
      "metadata": {
        "colab": {
          "base_uri": "https://localhost:8080/"
        },
        "id": "T_3IvY5Ob0W1",
        "outputId": "efe49fff-5758-49c4-b6e4-3fece00a957c"
      },
      "execution_count": null,
      "outputs": [
        {
          "output_type": "execute_result",
          "data": {
            "text/plain": [
              "True"
            ]
          },
          "metadata": {},
          "execution_count": 38
        }
      ]
    },
    {
      "cell_type": "code",
      "source": [
        "'AV9' in dicionario"
      ],
      "metadata": {
        "colab": {
          "base_uri": "https://localhost:8080/"
        },
        "id": "ske7ee1vcDfz",
        "outputId": "8659389f-7ad9-4a4c-f0af-2b5e556937c4"
      },
      "execution_count": null,
      "outputs": [
        {
          "output_type": "execute_result",
          "data": {
            "text/plain": [
              "False"
            ]
          },
          "metadata": {},
          "execution_count": 39
        }
      ]
    },
    {
      "cell_type": "code",
      "source": [
        "'AV0' not in dicionario"
      ],
      "metadata": {
        "colab": {
          "base_uri": "https://localhost:8080/"
        },
        "id": "U-QR1NQccGzh",
        "outputId": "782a0636-d64f-404a-ccc2-665102393a8a"
      },
      "execution_count": null,
      "outputs": [
        {
          "output_type": "execute_result",
          "data": {
            "text/plain": [
              "True"
            ]
          },
          "metadata": {},
          "execution_count": 40
        }
      ]
    },
    {
      "cell_type": "code",
      "source": [
        "# Atividade\n",
        "# Criar um dicionário que armazene entradas de 3 chaves via teclado\n",
        "# Deverá ser lida a chave e o valor, após isso, inserir no dicionário\n",
        "contador = 0\n",
        "\n",
        "dicionario = {}\n",
        "\n",
        "while contador < 3:\n",
        "  chave = input('Informe a chave: ')\n",
        "  valor = input('Informe o valor: ')\n",
        "  dicionario[chave] = valor\n",
        "  contador += 1\n",
        "print(dicionario)"
      ],
      "metadata": {
        "id": "n6Jez_ibcKxs"
      },
      "execution_count": null,
      "outputs": []
    },
    {
      "cell_type": "code",
      "source": [
        "# outro solução\n",
        "dicionario = {}\n",
        "for i in range(3):\n",
        "  chave = input('Digite a chave: ')\n",
        "  valor = input('Digite o valor: ')\n",
        "  dicionario.update({chave : valor})\n",
        "print(dicionario)"
      ],
      "metadata": {
        "id": "ij-S_SUTex4C"
      },
      "execution_count": null,
      "outputs": []
    },
    {
      "cell_type": "markdown",
      "source": [
        "# Percorrendo uma lista com keys()\n",
        "### Lista com dicionários"
      ],
      "metadata": {
        "id": "jiVUb1sYfnMg"
      }
    },
    {
      "cell_type": "code",
      "source": [
        "alunos = []\n",
        "alunos.append({'RA':'123456', 'nome':'Edson Melo de Souza', 'curso':'CC', 'nota': 10})\n",
        "alunos.append({'RA':'987654', 'nome':'Fernanda Mercadante', 'curso':'SI', 'nota': 9})\n",
        "print(alunos)"
      ],
      "metadata": {
        "id": "9yqw3-xrfXby"
      },
      "execution_count": null,
      "outputs": []
    },
    {
      "cell_type": "code",
      "source": [
        "for aluno in alunos: # percorre a lista\n",
        "  for variavel in [aluno]: # percorrendo o dicionário transformado em lista\n",
        "    print('RA...:', variavel.get('RA'))\n",
        "    print('Nome.:', variavel.get('nome'))\n",
        "    print('Curso:', variavel.get('curso'))\n",
        "  print()"
      ],
      "metadata": {
        "colab": {
          "base_uri": "https://localhost:8080/"
        },
        "id": "CjnA4_nSgIdN",
        "outputId": "f17d144c-b04d-42ba-d86f-0005ff1c35ee"
      },
      "execution_count": null,
      "outputs": [
        {
          "output_type": "stream",
          "name": "stdout",
          "text": [
            "RA...: 123456\n",
            "Nome.: Edson Melo de Souza\n",
            "Curso: CC\n",
            "\n",
            "RA...: 987654\n",
            "Nome.: Fernanda Mercadante\n",
            "Curso: SI\n",
            "\n"
          ]
        }
      ]
    },
    {
      "cell_type": "code",
      "source": [
        "# Outra solução\n",
        "for dados in alunos:\n",
        "  for key in dados.keys():\n",
        "    print(key, dados[key])\n",
        "  print()"
      ],
      "metadata": {
        "colab": {
          "base_uri": "https://localhost:8080/"
        },
        "id": "bB8iEo5AgRF5",
        "outputId": "f7e8124a-b556-4df1-9357-7bb45e20450e"
      },
      "execution_count": null,
      "outputs": [
        {
          "output_type": "stream",
          "name": "stdout",
          "text": [
            "RA 123456\n",
            "nome Edson Melo de Souza\n",
            "curso CC\n",
            "nota 10\n",
            "\n",
            "RA 987654\n",
            "nome Fernanda Mercadante\n",
            "curso SI\n",
            "nota 9\n",
            "\n"
          ]
        }
      ]
    },
    {
      "cell_type": "code",
      "source": [
        "alunos = []\n",
        "alunos.append({'RA':'123456', 'nome':'Edson Melo de Souza', 'curso':'CC'})\n",
        "alunos.append({'RA':'987654', 'nome':'Fernanda Mercadante', 'curso':'SI'})\n",
        "\n",
        "for dados in alunos:\n",
        "  for key in dados.keys():\n",
        "    print(key, dados[key])\n",
        "  print()"
      ],
      "metadata": {
        "colab": {
          "base_uri": "https://localhost:8080/"
        },
        "id": "HJMJyX67h1TT",
        "outputId": "b0d2ba95-e1ef-4cdb-90ca-9703a29f2d19"
      },
      "execution_count": null,
      "outputs": [
        {
          "output_type": "stream",
          "name": "stdout",
          "text": [
            "RA 123456\n",
            "nome Edson Melo de Souza\n",
            "curso CC\n",
            "\n",
            "RA 987654\n",
            "nome Fernanda Mercadante\n",
            "curso SI\n",
            "\n"
          ]
        }
      ]
    },
    {
      "cell_type": "markdown",
      "source": [
        "# ATIVIDADE\n",
        "1. Utilizando os conceitos aprendidos até a aula de hoje, utilize os dados abaixo e mostre:\n",
        "*   Maior nota\n",
        "*   Menor nota\n",
        "*   Média das notas\n",
        "\n",
        "2. __Desafio__: Desenvolva um algoritmo que mostre os resultados de forma individual para cada curso."
      ],
      "metadata": {
        "id": "lRywSMlaiI4S"
      }
    },
    {
      "cell_type": "code",
      "source": [
        "alunos = []\n",
        "alunos.append({'nome': 'Aluno 01', 'curso': 'Ciências da Computação', 'AV1':8 })\n",
        "alunos.append({'nome': 'Aluno 02', 'curso': 'Sistemas de Informação', 'AV1':7 })\n",
        "alunos.append({'nome': 'Aluno 03', 'curso': 'Sistemas de Informação', 'AV1':6 })\n",
        "alunos.append({'nome': 'Aluno 04', 'curso': 'Sistemas de Informação', 'AV1':6 })\n",
        "alunos.append({'nome': 'Aluno 05', 'curso': 'Sistemas de Informação', 'AV1':6 })\n",
        "alunos.append({'nome': 'Aluno 06', 'curso': 'Análise e Desenvolvimento de Sistemas', 'AV1':7 })\n",
        "alunos.append({'nome': 'Aluno 07', 'curso': 'Análise e Desenvolvimento de Sistemas', 'AV1':9 })\n",
        "alunos.append({'nome': 'Aluno 08', 'curso': 'Ciências da Computação', 'AV1':10 })\n",
        "alunos.append({'nome': 'Aluno 09', 'curso': 'Ciências da Computação', 'AV1':10 })\n",
        "alunos.append({'nome': 'Aluno 10', 'curso': 'Ciências da Computação', 'AV1':4 })\n",
        "alunos.append({'nome': 'Aluno 11', 'curso': 'Análise e Desenvolvimento de Sistemas', 'AV1':5 })\n",
        "alunos.append({'nome': 'Aluno 11', 'curso': 'Análise e Desenvolvimento de Sistemas', 'AV1':5 })\n",
        "alunos.append({'nome': 'Aluno 12', 'curso': 'Análise e Desenvolvimento de Sistemas', 'AV1':9 })\n",
        "alunos.append({'nome': 'Aluno 13', 'curso': 'Análise e Desenvolvimento de Sistemas', 'AV1':9 })\n",
        "alunos.append({'nome': 'Aluno 14', 'curso': 'Ciências da Computação', 'AV1': 7})\n",
        "alunos.append({'nome': 'Aluno 15', 'curso': 'Análise e Desenvolvimento de Sistemas', 'AV1':7})\n",
        "alunos.append({'nome': 'Aluno 16', 'curso': 'Ciências da Computação', 'AV1': 6})\n",
        "alunos.append({'nome': 'Aluno 17', 'curso': 'Análise e Desenvolvimento de Sistemas', 'AV1':8 })\n",
        "alunos.append({'nome': 'Aluno 18', 'curso': 'Ciências da Computação', 'AV1':4 })\n",
        "alunos.append({'nome': 'Aluno 19', 'curso': 'Sistemas de Informação', 'AV1':2 })\n",
        "alunos.append({'nome': 'Aluno 20', 'curso': 'Análise e Desenvolvimento de Sistemas', 'AV1':9 })"
      ],
      "metadata": {
        "id": "dsqJE2U1h9ay"
      },
      "execution_count": null,
      "outputs": []
    },
    {
      "cell_type": "code",
      "source": [
        "# Resolução do primeiro: pode ser resolvido usando uma variável e duas linhas, além dos prints\n",
        "# 21:50 vou corrigir\n",
        "\n",
        "notas = []\n",
        "\n",
        "for nota in alunos:\n",
        "  notas.append(nota.get('AV1'))\n",
        "\n",
        "print('Maior:', max(notas))\n",
        "print('Menor:', min(notas))\n",
        "print('Média:', round(sum(notas)/len(notas), 2))"
      ],
      "metadata": {
        "colab": {
          "base_uri": "https://localhost:8080/"
        },
        "id": "_PUj5tdKiyX-",
        "outputId": "80bbad65-6039-4cb4-aa71-ad277a4ce237"
      },
      "execution_count": null,
      "outputs": [
        {
          "output_type": "stream",
          "name": "stdout",
          "text": [
            "Maior: 10\n",
            "Menor: 2\n",
            "Média: 6.86\n"
          ]
        }
      ]
    },
    {
      "cell_type": "code",
      "source": [
        ""
      ],
      "metadata": {
        "id": "lLUXNOtAoKBV"
      },
      "execution_count": null,
      "outputs": []
    }
  ]
}